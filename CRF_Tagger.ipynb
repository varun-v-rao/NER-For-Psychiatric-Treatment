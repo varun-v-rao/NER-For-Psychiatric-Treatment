{
  "nbformat": 4,
  "nbformat_minor": 0,
  "metadata": {
    "colab": {
      "provenance": []
    },
    "kernelspec": {
      "name": "python3",
      "display_name": "Python 3"
    },
    "language_info": {
      "name": "python"
    }
  },
  "cells": [
    {
      "cell_type": "markdown",
      "source": [
        "# CRF Tagger"
      ],
      "metadata": {
        "id": "hGlfsBJZBbsM"
      }
    },
    {
      "cell_type": "markdown",
      "source": [
        "## Read Data"
      ],
      "metadata": {
        "id": "EjCjUvbZgKux"
      }
    },
    {
      "cell_type": "code",
      "source": [
        "def read_file(f):\n",
        "    data = open(f,'r').readlines()[1:]\n",
        "    row_id = [i.split('\\t')[0].strip() for i in data]\n",
        "    data = [i.split('\\t')[1].strip().split(' ') for i in data]\n",
        "    return row_id,data"
      ],
      "metadata": {
        "id": "dabcBB3kI427"
      },
      "execution_count": null,
      "outputs": []
    },
    {
      "cell_type": "code",
      "execution_count": null,
      "metadata": {
        "id": "yIFjlNm9IxHu"
      },
      "outputs": [],
      "source": [
        "!unzip review_data.zip"
      ]
    },
    {
      "cell_type": "code",
      "source": [
        "row_id_text, texts = read_file('./review_data/REVIEW_TEXT.txt')\n",
        "row_id_tags, tags = read_file('./review_data/REVIEW_LABELSEQ.txt')"
      ],
      "metadata": {
        "id": "Bw4dWzh1LcLT"
      },
      "execution_count": null,
      "outputs": []
    },
    {
      "cell_type": "code",
      "source": [
        "index = 5\n",
        "print('num of data', len(row_id_text))\n",
        "assert len(row_id_text) == len(row_id_tags)\n",
        "######## label dataset \n",
        "\n",
        "print('-'*89)\n",
        "print('Token\\tTag')\n",
        "for idx in range(len(texts[index])):\n",
        "    print(texts[index][idx], '\\t', tags[index][idx])"
      ],
      "metadata": {
        "colab": {
          "base_uri": "https://localhost:8080/"
        },
        "id": "_0WCSanfLgy_",
        "outputId": "82a8f58c-7d0f-465d-f3ca-1a4eb8c4d53b"
      },
      "execution_count": null,
      "outputs": [
        {
          "output_type": "stream",
          "name": "stdout",
          "text": [
            "num of data 4744\n",
            "-----------------------------------------------------------------------------------------\n",
            "Token\tTag\n",
            "I \t O\n",
            "had \t O\n",
            "terrible \t B-AE\n",
            "anxiety \t I-AE\n",
            "the \t I-AE\n",
            "whole \t I-AE\n",
            "time \t I-AE\n",
            ", \t O\n",
            "the \t B-AE\n",
            "worst \t I-AE\n",
            "kind \t I-AE\n",
            "of \t I-AE\n",
            "anxiety \t I-AE\n",
            "I've \t O\n",
            "ever \t O\n",
            "experienced. \t O\n"
          ]
        }
      ]
    },
    {
      "cell_type": "markdown",
      "source": [
        "## Input Features"
      ],
      "metadata": {
        "id": "8d7qnj7ggRpI"
      }
    },
    {
      "cell_type": "code",
      "source": [
        "import nltk\n",
        "nltk.download('averaged_perceptron_tagger')\n",
        "\n",
        "def word2features(doc, i):\n",
        "    word = doc[i]\n",
        "    postag = nltk.pos_tag([word])[-1][-1]\n",
        "\n",
        "    # Common features for all words\n",
        "    features = [\n",
        "        'bias',\n",
        "        'word.lower=' + word.lower(),       # The word itself\n",
        "        'word[-3:]=' + word[-3:],           # Word Prefix\n",
        "        'word[-2:]=' + word[-2:],           # Word Prefix\n",
        "        'word.isupper=%s' % word.isupper(), # Whether the word is in uppercase\n",
        "        'word.istitle=%s' % word.istitle(), # Whether the word is capitilized\n",
        "        'word.isdigit=%s' % word.isdigit(), # Whether the word is a number, or contains digits\n",
        "        'postag=' + postag                  # POS tag of the word\n",
        "    ]\n",
        "\n",
        "    # Features for words that are not\n",
        "    # at the beginning of a document\n",
        "    if i > 0:\n",
        "        word1 = doc[i-1]\n",
        "        postag1 = nltk.pos_tag([word1])[-1][-1]\n",
        "        features.extend([\n",
        "            '-1:word.lower=' + word1.lower(),\n",
        "            '-1:word.istitle=%s' % word1.istitle(),\n",
        "            '-1:word.isupper=%s' % word1.isupper(),\n",
        "            '-1:word.isdigit=%s' % word1.isdigit(),\n",
        "            '-1:postag=' + postag1\n",
        "        ])\n",
        "    else:\n",
        "        # Indicate that it is the 'beginning of a document'\n",
        "        features.append('BOS')\n",
        "\n",
        "    # Features for words that are not\n",
        "    # at the end of a document\n",
        "    if i < len(doc)-1:\n",
        "        word1 = doc[i+1]\n",
        "        postag1 = nltk.pos_tag([word1])[-1][-1]\n",
        "        features.extend([\n",
        "            '+1:word.lower=' + word1.lower(),\n",
        "            '+1:word.istitle=%s' % word1.istitle(),\n",
        "            '+1:word.isupper=%s' % word1.isupper(),\n",
        "            '+1:word.isdigit=%s' % word1.isdigit(),\n",
        "            '+1:postag=' + postag1\n",
        "        ])\n",
        "    else:\n",
        "        # Indicate that it is the 'end of a document'\n",
        "        features.append('EOS')\n",
        "\n",
        "    return features"
      ],
      "metadata": {
        "colab": {
          "base_uri": "https://localhost:8080/"
        },
        "id": "jC7ayU0hyAUC",
        "outputId": "40a64769-5964-4f38-b898-9902779520f0"
      },
      "execution_count": null,
      "outputs": [
        {
          "output_type": "stream",
          "name": "stderr",
          "text": [
            "[nltk_data] Downloading package averaged_perceptron_tagger to\n",
            "[nltk_data]     /root/nltk_data...\n",
            "[nltk_data]   Package averaged_perceptron_tagger is already up-to-\n",
            "[nltk_data]       date!\n"
          ]
        }
      ]
    },
    {
      "cell_type": "code",
      "source": [
        "from sklearn.model_selection import train_test_split\n",
        "\n",
        "# A function for extracting features in documents\n",
        "def extract_features(text):\n",
        "    return [word2features(text, i) for i in range(len(text))]\n",
        "\n",
        "X = [extract_features(text) for text in texts]\n",
        "y = tags"
      ],
      "metadata": {
        "id": "1GOl_y4ayyIi"
      },
      "execution_count": null,
      "outputs": []
    },
    {
      "cell_type": "markdown",
      "source": [
        "## Create Train and Validation Sets"
      ],
      "metadata": {
        "id": "0WP1Cjw-gpGT"
      }
    },
    {
      "cell_type": "code",
      "source": [
        "from sklearn.model_selection import train_test_split\n",
        "X_train, X_validation, y_train, y_validation = train_test_split(X, y, test_size = 0.2, random_state=42)"
      ],
      "metadata": {
        "id": "Rmu3kOghga0s"
      },
      "execution_count": null,
      "outputs": []
    },
    {
      "cell_type": "markdown",
      "source": [
        "## CRF Model"
      ],
      "metadata": {
        "id": "laq9XLLXgv2s"
      }
    },
    {
      "cell_type": "code",
      "source": [
        "!pip install sklearn_crfsuite"
      ],
      "metadata": {
        "colab": {
          "base_uri": "https://localhost:8080/"
        },
        "id": "hby1rY_TgzF8",
        "outputId": "984429c8-b83c-4271-963e-94ba8f46ae36"
      },
      "execution_count": null,
      "outputs": [
        {
          "output_type": "stream",
          "name": "stdout",
          "text": [
            "Looking in indexes: https://pypi.org/simple, https://us-python.pkg.dev/colab-wheels/public/simple/\n",
            "Collecting sklearn_crfsuite\n",
            "  Downloading sklearn_crfsuite-0.3.6-py2.py3-none-any.whl (12 kB)\n",
            "Requirement already satisfied: six in /usr/local/lib/python3.9/dist-packages (from sklearn_crfsuite) (1.16.0)\n",
            "Collecting python-crfsuite>=0.8.3\n",
            "  Downloading python_crfsuite-0.9.9-cp39-cp39-manylinux_2_17_x86_64.manylinux2014_x86_64.whl (1.0 MB)\n",
            "\u001b[2K     \u001b[90m━━━━━━━━━━━━━━━━━━━━━━━━━━━━━━━━━━━━━━━━\u001b[0m \u001b[32m1.0/1.0 MB\u001b[0m \u001b[31m16.7 MB/s\u001b[0m eta \u001b[36m0:00:00\u001b[0m\n",
            "\u001b[?25hRequirement already satisfied: tqdm>=2.0 in /usr/local/lib/python3.9/dist-packages (from sklearn_crfsuite) (4.65.0)\n",
            "Requirement already satisfied: tabulate in /usr/local/lib/python3.9/dist-packages (from sklearn_crfsuite) (0.8.10)\n",
            "Installing collected packages: python-crfsuite, sklearn_crfsuite\n",
            "Successfully installed python-crfsuite-0.9.9 sklearn_crfsuite-0.3.6\n"
          ]
        }
      ]
    },
    {
      "cell_type": "code",
      "source": [
        "# https://sklearn-crfsuite.readthedocs.io/en/latest/\n",
        "from sklearn_crfsuite import CRF\n",
        "\n",
        "crf = CRF(algorithm='lbfgs', # Gradient descent using the L-BFGS method lbfgs\n",
        "    c1=0.2, # The coefficient for L1 regularization.\n",
        "    c2=0.2,  # The coefficient for L2 regularization.\n",
        "    max_iterations=100,\n",
        "    all_possible_transitions=True)"
      ],
      "metadata": {
        "id": "tA19B1dfgtjT"
      },
      "execution_count": null,
      "outputs": []
    },
    {
      "cell_type": "markdown",
      "source": [
        "## Training and Prediction"
      ],
      "metadata": {
        "id": "ikBwOawng-xR"
      }
    },
    {
      "cell_type": "code",
      "source": [
        "crf.fit(X_train, y_train) # train step \n",
        "y_pred = crf.predict(X_validation) # inference step"
      ],
      "metadata": {
        "id": "0Wtw8wFcg5Jh"
      },
      "execution_count": null,
      "outputs": []
    },
    {
      "cell_type": "markdown",
      "source": [
        "## Results"
      ],
      "metadata": {
        "id": "Wddj5J8ShJEA"
      }
    },
    {
      "cell_type": "code",
      "source": [
        "from sklearn.metrics import classification_report\n",
        "\n",
        "y_val = [i for j in y_validation for i in j]\n",
        "y_p = [i for j in y_pred for i in j]\n",
        "report = classification_report(y_val, y_p)\n",
        "print(report)"
      ],
      "metadata": {
        "colab": {
          "base_uri": "https://localhost:8080/"
        },
        "id": "pm51ldRrh2Lr",
        "outputId": "ae9e4da7-6973-412f-aee4-c5c68ce0ceee"
      },
      "execution_count": null,
      "outputs": [
        {
          "output_type": "stream",
          "name": "stdout",
          "text": [
            "              precision    recall  f1-score   support\n",
            "\n",
            "        B-AE       0.78      0.70      0.74       752\n",
            "       B-SSI       0.76      0.55      0.64       168\n",
            "        I-AE       0.81      0.62      0.70      1485\n",
            "       I-SSI       0.35      0.18      0.24        66\n",
            "           O       0.94      0.98      0.96     11859\n",
            "\n",
            "    accuracy                           0.92     14330\n",
            "   macro avg       0.73      0.61      0.66     14330\n",
            "weighted avg       0.91      0.92      0.91     14330\n",
            "\n"
          ]
        }
      ]
    }
  ]
}